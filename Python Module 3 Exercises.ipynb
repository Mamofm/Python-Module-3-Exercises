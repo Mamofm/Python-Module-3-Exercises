{
 "cells": [
  {
   "cell_type": "markdown",
   "metadata": {},
   "source": [
    "Exercise 1. Ask for a color and store that answer. \n",
    "If the answer is grey then print out you found Victor's favorite color.\n",
    "Otherwise print out the color is not Victor's favorite color."
   ]
  },
  {
   "cell_type": "code",
   "execution_count": 12,
   "metadata": {},
   "outputs": [
    {
     "name": "stdout",
     "output_type": "stream",
     "text": [
      "Enter Victoria's color of choice: blue\n",
      "\n",
      "The color is not Victor's favorite color.\n"
     ]
    }
   ],
   "source": [
    "def  check_color_choice( choice) :    \n",
    "    if (choice == \"grey\"):\n",
    "      print (\"\\nYou found Victor's favorite color.\")\n",
    "    else :\n",
    "      print (\"\\nThe color is not Victor's favorite color.\")\n",
    "    return\n",
    "\n",
    "c = input(\"Enter Victoria's color of choice: \")\n",
    "\n",
    "check_color_choice (c)\n",
    "\n"
   ]
  },
  {
   "cell_type": "markdown",
   "metadata": {},
   "source": [
    "Exercise 2. Modify code from above exercise 1 and add in more conditions for other colors such as red, green, blue and then, write statements for them."
   ]
  },
  {
   "cell_type": "code",
   "execution_count": 10,
   "metadata": {},
   "outputs": [
    {
     "name": "stdout",
     "output_type": "stream",
     "text": [
      "Enter Victoria's color of choice: red\n",
      "\n",
      "You found Victor's 2nd favorite color.\n"
     ]
    }
   ],
   "source": [
    "def  check_color_choice( choice) :    \n",
    "    if (choice == \"grey\"):\n",
    "      print (\"\\nYou found Victor's favorite color.\")\n",
    "    elif (choice == \"red\"):\n",
    "      print (\"\\nYou found Victor's 2nd favorite color.\")\n",
    "    elif (choice == \"green\"):\n",
    "      print (\"\\nYou found Victor's 3rd favorite color.\")\n",
    "    elif (choice == \"blue\"):\n",
    "      print (\"\\nYou found Victor's 4th favorite color.\")\n",
    "    else: \n",
    "      print (\"\\nThe color is not Victor's favorite color.\")\n",
    "    return\n",
    "\n",
    "c = input(\"Enter Victoria's color of choice: \")\n",
    "\n",
    "check_color_choice (c)"
   ]
  },
  {
   "cell_type": "markdown",
   "metadata": {},
   "source": [
    "Exercise 3. Ask for an exam score and store that number. If the number is greater than 100, then print out 'You cannot have an exam score higher than 100'. If the number doesn't exceeed 100 but is greater than or equal to 75, then print out 'You did great on your exam!'. Otherwise if they scored lower than 75, then print out 'You need to study harder'."
   ]
  },
  {
   "cell_type": "code",
   "execution_count": 11,
   "metadata": {},
   "outputs": [
    {
     "name": "stdout",
     "output_type": "stream",
     "text": [
      "Enter your score: 101\n",
      "you cannot have an exam score higher than 100.\n"
     ]
    }
   ],
   "source": [
    "def  analyze_score( score) :    \n",
    "    if (int(score) > 100):\n",
    "      print (\"you cannot have an exam score higher than 100.\")\n",
    "    elif (int(score) >= 75):\n",
    "      print (\"You did great on your exam! \")\n",
    "    else: \n",
    "      print (\"You need to study harder\")\n",
    "    return\n",
    "\n",
    "score = input(\"Enter your score: \")\n",
    "\n",
    "analyze_score (score)"
   ]
  },
  {
   "cell_type": "markdown",
   "metadata": {},
   "source": [
    "Exercise 4. \n",
    "Define two functions: \n",
    "    - a function that takes 3 arguements and returns the sum of three arguements\n",
    "    - a function that takes 2 arguements and returns the result of 1st arguement multiplied by 2nd arguement\n",
    "\n",
    "Then tell the user to choose option 1 to add three numbers or option 2 to multiply two numbers.\n",
    "If the user choose option 1 then call the addition function, otherwise if they choose option 2 then call the mulitplication function.  If the user choose anything other than option 1 or 2, then generate a friendly error messsage"
   ]
  },
  {
   "cell_type": "code",
   "execution_count": 30,
   "metadata": {},
   "outputs": [
    {
     "name": "stdout",
     "output_type": "stream",
     "text": [
      "Menu\n",
      "\t Choice 1 if you choose to add 3 numbers\n",
      "\t Choice 2 if you choose to multiply 2 numbers\n",
      "2\n",
      "Enter 1st number you want to multiply:3\n",
      "Enter 2st number you want to multiply:5\n",
      "3  *  5  =  15\n"
     ]
    }
   ],
   "source": [
    "def  add_three_num (num1, num2, num3) :\n",
    "      sum = int(num1) + int(num2) + int(num3)\n",
    "      return sum\n",
    "\n",
    "def   mul_two_num (num1, num2):\n",
    "      mul = int(num1) * int(num2)\n",
    "      return mul\n",
    "     \n",
    "print (\"Menu\")\n",
    "print (f\"\\t Choice 1 if you choose to add 3 numbers\")\n",
    "print (f\"\\t Choice 2 if you choose to multiply 2 numbers\")\n",
    "\n",
    "choice = input()\n",
    "\n",
    "if (int(choice) == 1):\n",
    "    num1 = input (\"Enter 1st number you want to add:\")\n",
    "    num2 = input (\"Enter 2st number you want to add:\")\n",
    "    num3 = input (\"Enter 3st number you want to add:\")\n",
    "    print (num1, \" + \", num2,\" + \", num3, \" = \", add_three_num (num1, num2, num3))   \n",
    "elif (int(choice) == 2):\n",
    "    num1 = input (\"Enter 1st number you want to multiply:\")\n",
    "    num2 = input (\"Enter 2st number you want to multiply:\")\n",
    "    print (num1, \" * \", num2, \" = \", mul_two_num (num1, num2))\n",
    "else: \n",
    "    print (\"Wrong Choice - try again, choice should be 1 or 2\")\n"
   ]
  },
  {
   "cell_type": "markdown",
   "metadata": {},
   "source": [
    "Exercise 5. \n",
    "Write a function to convert a test score to a grade where  \n",
    " - 90 - 100: A\n",
    " - 80 - 89:  B\n",
    " - 70 - 79:  C\n",
    " - 60 - 69:  D\n",
    " - < 60   :  F\n",
    " \n",
    "If a score is not between 0 and 100 then print out an error message. In the program, ask the user for a score and then call your function. "
   ]
  },
  {
   "cell_type": "code",
   "execution_count": 33,
   "metadata": {},
   "outputs": [
    {
     "name": "stdout",
     "output_type": "stream",
     "text": [
      "Enter Score: 100\n",
      "your score is:  A\n"
     ]
    }
   ],
   "source": [
    "def convert_test_score (score):\n",
    "    if (int(score) > 89):\n",
    "        return \"A\"\n",
    "    elif (int(score) > 79):\n",
    "        return \"B\"\n",
    "    elif (int(score) > 69):\n",
    "        return \"C\"\n",
    "    elif (int(score) > 59):\n",
    "        return \"B\"\n",
    "    else:\n",
    "        return \"D\"\n",
    "s = input (\"Enter Score: \")\n",
    "print (\"your score is: \", convert_test_score (s))\n"
   ]
  },
  {
   "cell_type": "markdown",
   "metadata": {},
   "source": [
    "Exercise 6. Write a program to compute discounts for customers.  \n",
    "- For retail customers, \n",
    "    - if invoice total is greater than \\$100 then discount rate is 10\\%, otherwise no discount \n",
    "\n",
    "- For wholesale customers,\n",
    "    - if invoice total is greater than \\$500 then discount rate is 30\\%, otherwise discount rate is 20\\%\n",
    "    \n",
    "Get the type of customer and the invoice total from the user."
   ]
  },
  {
   "cell_type": "code",
   "execution_count": 52,
   "metadata": {},
   "outputs": [
    {
     "name": "stdout",
     "output_type": "stream",
     "text": [
      "Enter \t\t\n",
      " 1 if you are retailer.  \t\t\n",
      " 2 if you are whole saler\n",
      "2\n",
      "Enter total invoice amount: 300\n",
      "Your discount is  60.0\n"
     ]
    }
   ],
   "source": [
    "custType = input (\"Enter \\t\\t\\n 1 if you are retailer.  \\t\\t\\n 2 if you are whole saler\\n\")\n",
    "amount = input (\"Enter total invoice amount: \")\n",
    "\n",
    "if ( int(custType) == 1 ):\n",
    "    if (float(amount) > 100.00):\n",
    "          print (\"Your discount is \", float(amount)* 0.1)\n",
    "    else: print (\"your total amount is less than $100, no dicount\")   \n",
    "elif( int(custType) == 2 ):\n",
    "        if (float(amount) > 500.00):\n",
    "              print (\"Your discount is \",  float(amount) * 0.3)\n",
    "        else: print (\"Your discount is \",  float(amount) * 0.2)\n"
   ]
  },
  {
   "cell_type": "markdown",
   "metadata": {},
   "source": [
    "Exercise 7: Write a function that accepts two parameters (a and b) and returns a result of a/b.  In this function, try to catch any exception error.  Then, write a program to get two numbers from a user, call your function using these two numbers, and print out the result in a friendly format.  All input and print statements must be done in the main program. Repeat the process until user wants to quit the program. "
   ]
  },
  {
   "cell_type": "code",
   "execution_count": 65,
   "metadata": {},
   "outputs": [
    {
     "name": "stdout",
     "output_type": "stream",
     "text": [
      "Enter numerator: 0\n",
      "Enter denomerator: 0\n",
      "0  divide by  0  is  None\n"
     ]
    }
   ],
   "source": [
    "import sys\n",
    "def fraction_ret (a, b):\n",
    "    try: \n",
    "      c =  float (a) / float(b)\n",
    "      return c\n",
    "    except: \n",
    "        sys.exc_info()[0]  ## print (\" Second number can not be zero\") \n",
    "\n",
    "a = input (\"Enter numerator: \")\n",
    "b = input (\"Enter denomerator: \")\n",
    "\n",
    "print (a, \" divide by \", b, \" is \", fraction_ret (a, b))\n",
    " "
   ]
  },
  {
   "cell_type": "code",
   "execution_count": null,
   "metadata": {},
   "outputs": [],
   "source": []
  },
  {
   "cell_type": "markdown",
   "metadata": {},
   "source": [
    "Exercise 8: Write a function to generate a multiplication table. Then write a program to ask a user if user wants to generate a  mutiplication table for a random number or provide a number. The program should continue to run until a user wants to quit."
   ]
  },
  {
   "cell_type": "code",
   "execution_count": 18,
   "metadata": {},
   "outputs": [],
   "source": [
    "import random as rand\n",
    "def gen_mult_tbl (num):\n",
    "    idx = int(1);\n",
    "    while (idx < 13):\n",
    "        print (num, \" x \", idx, \" = \", int(num)* idx )\n",
    "        idx = idx + 1\n",
    "    \n",
    "    return\n"
   ]
  },
  {
   "cell_type": "code",
   "execution_count": 19,
   "metadata": {},
   "outputs": [
    {
     "name": "stdout",
     "output_type": "stream",
     "text": [
      "Enter R if you want to generate a  mutiplication table for a random number or Enter P to provide a number(R/P)?P\n",
      "Enter a number from 1 to 12: 6\n",
      "6  x  1  =  6\n",
      "6  x  2  =  12\n",
      "6  x  3  =  18\n",
      "6  x  4  =  24\n",
      "6  x  5  =  30\n",
      "6  x  6  =  36\n",
      "6  x  7  =  42\n",
      "6  x  8  =  48\n",
      "6  x  9  =  54\n",
      "6  x  10  =  60\n",
      "6  x  11  =  66\n",
      "6  x  12  =  72\n"
     ]
    }
   ],
   "source": [
    "choice = input (\"Enter R if you want to generate a  mutiplication table for a random number or Enter P to provide a number(R/P)?\")\n",
    "if (choice == 'P'):\n",
    "    num = int (input(\"Enter a number from 1 to 12: \"))\n",
    "else:\n",
    "    num = int(rand.randint( 1, 12 ))\n",
    "    \n",
    "gen_mult_tbl (num)   "
   ]
  },
  {
   "cell_type": "markdown",
   "metadata": {},
   "source": [
    "Exercise 9: Write a function to draw a right-triangle using a number as a character.Then, write a program to generate a random number between 1 and 9, call your function with that random number.  The output should look something like this:\n",
    "\n",
    "        base: 5\n",
    "        5\n",
    "        55\n",
    "        555\n",
    "        5555\n",
    "        55555\n",
    "\n",
    "\n",
    "        base: 8\n",
    "        8\n",
    "        88\n",
    "        888\n",
    "        8888\n",
    "        88888\n",
    "        888888\n",
    "        8888888\n",
    "        88888888"
   ]
  },
  {
   "cell_type": "code",
   "execution_count": 28,
   "metadata": {},
   "outputs": [
    {
     "name": "stdout",
     "output_type": "stream",
     "text": [
      "8\n",
      "88\n",
      "888\n",
      "8888\n",
      "88888\n",
      "888888\n",
      "8888888\n",
      "88888888\n"
     ]
    }
   ],
   "source": [
    "import random as rand\n",
    "def draw_traingle (num):\n",
    "    idx = 1;\n",
    "    while (idx <= num):\n",
    "        print (str(num)*idx )\n",
    "        idx = idx + 1\n",
    "    \n",
    "    return\n",
    "\n",
    "num = int(rand.randint( 1, 9 ))\n",
    "draw_traingle (num)"
   ]
  },
  {
   "cell_type": "code",
   "execution_count": null,
   "metadata": {},
   "outputs": [],
   "source": []
  },
  {
   "cell_type": "markdown",
   "metadata": {},
   "source": [
    "Exercise 10: Modify function from exercise 9 to show output like this:\n",
    "\n",
    "        base: 5\n",
    "            5\n",
    "           55\n",
    "          555\n",
    "         5555 \n",
    "        55555\n",
    "        \n",
    "        base: 8\n",
    "               8\n",
    "              88\n",
    "             888\n",
    "            8888\n",
    "           88888\n",
    "          888888\n",
    "         8888888\n",
    "        88888888 "
   ]
  },
  {
   "cell_type": "code",
   "execution_count": null,
   "metadata": {},
   "outputs": [],
   "source": []
  },
  {
   "cell_type": "code",
   "execution_count": null,
   "metadata": {},
   "outputs": [],
   "source": []
  }
 ],
 "metadata": {
  "kernelspec": {
   "display_name": "Python 3",
   "language": "python",
   "name": "python3"
  },
  "language_info": {
   "codemirror_mode": {
    "name": "ipython",
    "version": 3
   },
   "file_extension": ".py",
   "mimetype": "text/x-python",
   "name": "python",
   "nbconvert_exporter": "python",
   "pygments_lexer": "ipython3",
   "version": "3.8.8"
  }
 },
 "nbformat": 4,
 "nbformat_minor": 4
}
